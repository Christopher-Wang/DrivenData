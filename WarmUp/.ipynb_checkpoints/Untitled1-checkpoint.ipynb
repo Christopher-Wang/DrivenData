{
 "cells": [
  {
   "cell_type": "code",
   "execution_count": 9,
   "metadata": {},
   "outputs": [],
   "source": [
    "from sklearn.ensemble import *\n",
    "import pandas as pd\n",
    "from sklearn.metrics import log_loss\n",
    "from sklearn.model_selection import GridSearchCV\n",
    "from pyHSICLasso import HSICLasso\n",
    "import numpy as np\n",
    "import lightgbm as lgb"
   ]
  },
  {
   "cell_type": "code",
   "execution_count": 2,
   "metadata": {},
   "outputs": [],
   "source": [
    "labels = pd.read_csv('train_labels.csv')\n",
    "values = pd.read_csv('train_values.csv')\n",
    "values['thal'] = pd.factorize(values['thal'])[0]\n",
    "df = values.merge(labels, on='patient_id')"
   ]
  },
  {
   "cell_type": "code",
   "execution_count": 3,
   "metadata": {},
   "outputs": [],
   "source": [
    "training_split = int(len(df) * 0.7)\n",
    "y_train = df['heart_disease_present'].iloc[:training_split]\n",
    "y_test = df['heart_disease_present'].iloc[training_split:]\n",
    "x_train = df[[column for column in df.columns if column not in ['heart_disease_present', 'patient_id']]].iloc[:training_split]\n",
    "x_test = df[[column for column in df.columns if column not in ['heart_disease_present', 'patient_id']]].iloc[training_split:]"
   ]
  },
  {
   "cell_type": "code",
   "execution_count": 5,
   "metadata": {},
   "outputs": [
    {
     "name": "stdout",
     "output_type": "stream",
     "text": [
      "Block HSIC Lasso B = 125.\n",
      "M set to 1.\n",
      "Using Gaussian kernel for the features, Delta kernel for the outcomes.\n"
     ]
    }
   ],
   "source": [
    "lasso = HSICLasso()\n",
    "lasso.input(x_train.values, y_train.values, featname=x_test.columns)\n",
    "lasso.classification(10, M=1, B=0)\n",
    "features = lasso.get_features()"
   ]
  },
  {
   "cell_type": "code",
   "execution_count": 33,
   "metadata": {},
   "outputs": [
    {
     "name": "stdout",
     "output_type": "stream",
     "text": [
      "[1]\tvalid_0's l2: 0.251397\tvalid_0's l1: 0.494641\n",
      "Training until validation scores don't improve for 5 rounds.\n",
      "[2]\tvalid_0's l2: 0.244355\tvalid_0's l1: 0.487951\n",
      "[3]\tvalid_0's l2: 0.237778\tvalid_0's l1: 0.481136\n",
      "[4]\tvalid_0's l2: 0.231991\tvalid_0's l1: 0.475045\n",
      "[5]\tvalid_0's l2: 0.226678\tvalid_0's l1: 0.46895\n",
      "[6]\tvalid_0's l2: 0.22059\tvalid_0's l1: 0.462193\n",
      "[7]\tvalid_0's l2: 0.21503\tvalid_0's l1: 0.455439\n",
      "[8]\tvalid_0's l2: 0.211407\tvalid_0's l1: 0.450314\n",
      "[9]\tvalid_0's l2: 0.206861\tvalid_0's l1: 0.44459\n",
      "[10]\tvalid_0's l2: 0.204095\tvalid_0's l1: 0.440359\n",
      "[11]\tvalid_0's l2: 0.200562\tvalid_0's l1: 0.434842\n",
      "[12]\tvalid_0's l2: 0.19762\tvalid_0's l1: 0.429648\n",
      "[13]\tvalid_0's l2: 0.195201\tvalid_0's l1: 0.424757\n",
      "[14]\tvalid_0's l2: 0.193243\tvalid_0's l1: 0.420149\n",
      "[15]\tvalid_0's l2: 0.191554\tvalid_0's l1: 0.416131\n",
      "[16]\tvalid_0's l2: 0.188872\tvalid_0's l1: 0.412963\n",
      "[17]\tvalid_0's l2: 0.186421\tvalid_0's l1: 0.40996\n",
      "[18]\tvalid_0's l2: 0.185753\tvalid_0's l1: 0.407357\n",
      "[19]\tvalid_0's l2: 0.183825\tvalid_0's l1: 0.405012\n",
      "[20]\tvalid_0's l2: 0.183134\tvalid_0's l1: 0.402542\n",
      "[21]\tvalid_0's l2: 0.182416\tvalid_0's l1: 0.399346\n",
      "[22]\tvalid_0's l2: 0.181924\tvalid_0's l1: 0.396328\n",
      "[23]\tvalid_0's l2: 0.181444\tvalid_0's l1: 0.393801\n",
      "[24]\tvalid_0's l2: 0.181279\tvalid_0's l1: 0.391078\n",
      "[25]\tvalid_0's l2: 0.180334\tvalid_0's l1: 0.389523\n",
      "[26]\tvalid_0's l2: 0.180166\tvalid_0's l1: 0.387077\n",
      "[27]\tvalid_0's l2: 0.177016\tvalid_0's l1: 0.382542\n",
      "[28]\tvalid_0's l2: 0.17468\tvalid_0's l1: 0.378838\n",
      "[29]\tvalid_0's l2: 0.172033\tvalid_0's l1: 0.374756\n",
      "[30]\tvalid_0's l2: 0.169331\tvalid_0's l1: 0.370571\n",
      "[31]\tvalid_0's l2: 0.168716\tvalid_0's l1: 0.36877\n",
      "[32]\tvalid_0's l2: 0.166743\tvalid_0's l1: 0.366054\n",
      "[33]\tvalid_0's l2: 0.164909\tvalid_0's l1: 0.362393\n",
      "[34]\tvalid_0's l2: 0.1638\tvalid_0's l1: 0.359763\n",
      "[35]\tvalid_0's l2: 0.163563\tvalid_0's l1: 0.358034\n",
      "[36]\tvalid_0's l2: 0.164213\tvalid_0's l1: 0.356071\n",
      "[37]\tvalid_0's l2: 0.164768\tvalid_0's l1: 0.354312\n",
      "[38]\tvalid_0's l2: 0.16524\tvalid_0's l1: 0.352681\n",
      "[39]\tvalid_0's l2: 0.163954\tvalid_0's l1: 0.35091\n",
      "[40]\tvalid_0's l2: 0.164525\tvalid_0's l1: 0.349409\n",
      "Early stopping, best iteration is:\n",
      "[35]\tvalid_0's l2: 0.163563\tvalid_0's l1: 0.358034\n"
     ]
    }
   ],
   "source": [
    "lgb_train = lgb.Dataset(x_train, y_train)\n",
    "lgb_eval = lgb.Dataset(x_test, y_test, reference=lgb_train)\n",
    "lgb_total = lgb.Dataset(df[[column for column in df.columns if column not in ['heart_disease_present', 'patient_id']]], df['heart_disease_present'])\n",
    "\n",
    "test = pd.read_csv('test_values.csv')\n",
    "test['thal'] = pd.factorize(test['thal'])[0]\n",
    "\n",
    "params = {\n",
    "    'boosting_type': 'gbdt',\n",
    "    'objective': 'binary',\n",
    "    'metric': {'l2', 'l1'},\n",
    "    'num_leaves': 31,\n",
    "    'learning_rate': 0.05,\n",
    "    'feature_fraction': 0.9,\n",
    "    'bagging_fraction': 0.8,\n",
    "    'bagging_freq': 5,\n",
    "    'verbose': 0\n",
    "}\n",
    "\n",
    "gbm = lgb.train(params,\n",
    "                lgb_train,\n",
    "                num_boost_round=100,\n",
    "                valid_sets=lgb_eval,\n",
    "                early_stopping_rounds=5)\n",
    "#y_pred = gbm.predict(x_test, num_iteration=gbm.best_iteration)\n",
    "test_pred = gbm.predict(test[[column for column in df.columns if column not in ['heart_disease_present', 'patient_id']]], num_iteration=gbm.best_iteration)"
   ]
  },
  {
   "cell_type": "code",
   "execution_count": 34,
   "metadata": {},
   "outputs": [
    {
     "data": {
      "text/plain": [
       "array([0.30080574, 0.52412717, 0.35214542, 0.47589079, 0.83910531,\n",
       "       0.32741522, 0.51900182, 0.36131963, 0.58828769, 0.43805277,\n",
       "       0.51277064, 0.16778308, 0.67645629, 0.56454221, 0.49671646,\n",
       "       0.32917336, 0.30103879, 0.36634967, 0.30862888, 0.36057734,\n",
       "       0.418366  , 0.57370956, 0.46133764, 0.34206608, 0.17337547,\n",
       "       0.8461997 , 0.11896423, 0.60809122, 0.811139  , 0.34038058,\n",
       "       0.4318411 , 0.17538242, 0.59507979, 0.56207706, 0.55721603,\n",
       "       0.46775783, 0.66656219, 0.64821487, 0.14140243, 0.40748866,\n",
       "       0.51946486, 0.42612387, 0.38385525, 0.38262035, 0.47472269,\n",
       "       0.41193212, 0.49675838, 0.60602864, 0.58587139, 0.77884685,\n",
       "       0.78569756, 0.3637869 , 0.52549546, 0.51189048, 0.27446155,\n",
       "       0.33864002, 0.34206321, 0.49647606, 0.64588977, 0.76305507,\n",
       "       0.35838305, 0.47080271, 0.54433544, 0.85961413, 0.45413089,\n",
       "       0.80827812, 0.80123932, 0.28071669, 0.5187812 , 0.77680003,\n",
       "       0.46993248, 0.42873395, 0.32891788, 0.52091441, 0.45266479,\n",
       "       0.51489662, 0.27027871, 0.65499954, 0.5615301 , 0.29965838,\n",
       "       0.23339997, 0.4169263 , 0.59830639, 0.2313027 , 0.63527844,\n",
       "       0.34264384, 0.78334613, 0.45737664, 0.70673178, 0.55566923])"
      ]
     },
     "execution_count": 34,
     "metadata": {},
     "output_type": "execute_result"
    }
   ],
   "source": []
  },
  {
   "cell_type": "code",
   "execution_count": null,
   "metadata": {},
   "outputs": [],
   "source": [
    "test['heart_disease_present', 'patient_id'] = test_pred"
   ]
  }
 ],
 "metadata": {
  "kernelspec": {
   "display_name": "Python 3",
   "language": "python",
   "name": "python3"
  },
  "language_info": {
   "codemirror_mode": {
    "name": "ipython",
    "version": 3
   },
   "file_extension": ".py",
   "mimetype": "text/x-python",
   "name": "python",
   "nbconvert_exporter": "python",
   "pygments_lexer": "ipython3",
   "version": "3.6.3"
  }
 },
 "nbformat": 4,
 "nbformat_minor": 2
}
