{
 "cells": [
  {
   "cell_type": "code",
   "execution_count": 28,
   "metadata": {},
   "outputs": [],
   "source": [
    "from sklearn.ensemble import *\n",
    "import pandas as pd\n",
    "from sklearn.metrics import log_loss\n",
    "from pyHSICLasso import HSICLasso"
   ]
  },
  {
   "cell_type": "code",
   "execution_count": 18,
   "metadata": {},
   "outputs": [],
   "source": [
    "labels = pd.read_csv('train_labels.csv')\n",
    "values = pd.read_csv('train_values.csv')\n",
    "values['thal'] = pd.factorize(values['thal'])[0]\n",
    "df = values.merge(labels, on='patient_id')"
   ]
  },
  {
   "cell_type": "code",
   "execution_count": 19,
   "metadata": {},
   "outputs": [],
   "source": [
    "training_split = int(len(df) * 0.7)\n",
    "y_train = df['heart_disease_present'].iloc[:training_split]\n",
    "y_test = df['heart_disease_present'].iloc[training_split:]\n",
    "x_train = df[[column for column in df.columns if column not in ['heart_disease_present', 'patient_id']]].iloc[:training_split]\n",
    "x_test = df[[column for column in df.columns if column not in ['heart_disease_present', 'patient_id']]].iloc[training_split:]"
   ]
  },
  {
   "cell_type": "code",
   "execution_count": 20,
   "metadata": {},
   "outputs": [
    {
     "name": "stdout",
     "output_type": "stream",
     "text": [
      "Block HSIC Lasso B = 125.\n",
      "M set to 1.\n",
      "Using Gaussian kernel for the features, Delta kernel for the outcomes.\n"
     ]
    }
   ],
   "source": [
    "lasso = HSICLasso()\n",
    "lasso.input(x_train.values, y_train.values, featname=x_test.columns)\n",
    "lasso.classification(10, M=1, B=0)\n",
    "features = lasso.get_features()"
   ]
  },
  {
   "cell_type": "code",
   "execution_count": 21,
   "metadata": {},
   "outputs": [
    {
     "name": "stdout",
     "output_type": "stream",
     "text": [
      "9.992007221626413e-16 6.279835678887776\n"
     ]
    }
   ],
   "source": [
    "forest = RandomForestClassifier(n_estimators=30, max_depth=90)\n",
    "forest.fit(x_train[features], y_train)\n",
    "print(log_loss(y_train, forest.predict(x_train[features])), log_loss(y_test, forest.predict(x_test[features])))"
   ]
  },
  {
   "cell_type": "code",
   "execution_count": 22,
   "metadata": {},
   "outputs": [
    {
     "name": "stdout",
     "output_type": "stream",
     "text": [
      "9.992007221626413e-16 8.163812551197278\n"
     ]
    }
   ],
   "source": [
    "tree = AdaBoostClassifier(base_estimator=forest, n_estimators=30)\n",
    "tree.fit(x_train[features], y_train)\n",
    "print(log_loss(y_train, tree.predict(x_train[features])), log_loss(y_test, tree.predict(x_test[features])))"
   ]
  },
  {
   "cell_type": "code",
   "execution_count": 30,
   "metadata": {},
   "outputs": [
    {
     "data": {
      "text/plain": [
       "VotingClassifier(estimators=[('Random0', RandomForestClassifier(bootstrap=True, class_weight=None, criterion='gini',\n",
       "            max_depth=None, max_features='auto', max_leaf_nodes=None,\n",
       "            min_impurity_decrease=0.0, min_impurity_split=None,\n",
       "            min_samples_leaf=1, min_samples_split=2,\n",
       "            m...      presort='auto', random_state=None, subsample=1.0, verbose=0,\n",
       "              warm_start=False))],\n",
       "         flatten_transform=None, n_jobs=-1, voting='hard', weights=None)"
      ]
     },
     "execution_count": 30,
     "metadata": {},
     "output_type": "execute_result"
    }
   ],
   "source": [
    "models = []\n",
    "for i in range(100):\n",
    "    models.append(('Random' + str(i), RandomForestClassifier(n_estimators=30)))\n",
    "    models.append(('Ada' + str(i), AdaBoostClassifier(n_estimators=30)))\n",
    "    models.append(('Bag' + str(i), BaggingClassifier(n_estimators=30)))\n",
    "    models.append(('Extra' + str(i), ExtraTreesClassifier(n_estimators=30)))\n",
    "    models.append(('Gradient' + str(i), GradientBoostingClassifier(n_estimators=30)))\n",
    "model = VotingClassifier(models, n_jobs=-1)\n",
    "model.fit(df[[column for column in df.columns if column not in ['heart_disease_present', 'patient_id']]],df['heart_disease_present'])"
   ]
  },
  {
   "cell_type": "code",
   "execution_count": 31,
   "metadata": {},
   "outputs": [
    {
     "name": "stderr",
     "output_type": "stream",
     "text": [
      "c:\\users\\christopher\\appdata\\local\\programs\\python\\python36\\lib\\site-packages\\sklearn\\preprocessing\\label.py:151: DeprecationWarning: The truth value of an empty array is ambiguous. Returning False, but in future this will result in an error. Use `array.size > 0` to check that an array is not empty.\n",
      "  if diff:\n"
     ]
    }
   ],
   "source": [
    "test = pd.read_csv('test_values.csv')\n",
    "test['thal'] = pd.factorize(test['thal'])[0]\n",
    "test['heart_disease_present'] = model.predict(test[[column for column in df.columns if column not in ['heart_disease_present', 'patient_id']]])"
   ]
  },
  {
   "cell_type": "code",
   "execution_count": 32,
   "metadata": {},
   "outputs": [],
   "source": [
    "submission = test[['patient_id', 'heart_disease_present']]"
   ]
  },
  {
   "cell_type": "code",
   "execution_count": 40,
   "metadata": {},
   "outputs": [],
   "source": [
    "submission.to_csv('submission.csv', index=False)"
   ]
  },
  {
   "cell_type": "code",
   "execution_count": null,
   "metadata": {},
   "outputs": [],
   "source": []
  }
 ],
 "metadata": {
  "kernelspec": {
   "display_name": "Python 3",
   "language": "python",
   "name": "python3"
  },
  "language_info": {
   "codemirror_mode": {
    "name": "ipython",
    "version": 3
   },
   "file_extension": ".py",
   "mimetype": "text/x-python",
   "name": "python",
   "nbconvert_exporter": "python",
   "pygments_lexer": "ipython3",
   "version": "3.6.3"
  }
 },
 "nbformat": 4,
 "nbformat_minor": 2
}
