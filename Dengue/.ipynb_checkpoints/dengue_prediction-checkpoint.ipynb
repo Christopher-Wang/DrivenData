{
 "cells": [
  {
   "cell_type": "code",
   "execution_count": 1,
   "metadata": {},
   "outputs": [],
   "source": [
    "import pandas as pd\n",
    "import numpy as np\n",
    "from pyHSICLasso import HSICLasso\n",
    "from matrixprofile import *\n",
    "import lightgbm as lgb\n",
    "import plotly_express as px\n",
    "from sklearn.metrics import *"
   ]
  },
  {
   "cell_type": "code",
   "execution_count": 2,
   "metadata": {},
   "outputs": [],
   "source": [
    "def generate_features(df, features, windows=range(2, 8), functions=[('mean', np.mean),('std', np.std),('max', np.max),('min', np.min)]):\n",
    "    for feature in features: \n",
    "        for window in windows:\n",
    "            df[f'matrix_profile.{window}.{feature}'] = np.pad(matrixProfile.stomp(df[feature].values, window)[0], (window-1, 0), 'constant', constant_values=np.nan)\n",
    "            for function in functions:\n",
    "                df[f'{function[0]}.{window}.{feature}'] = df[feature].rolling(window).apply(function[1])\n",
    "    return df"
   ]
  },
  {
   "cell_type": "code",
   "execution_count": 3,
   "metadata": {},
   "outputs": [],
   "source": [
    "def get_lasso_features(sample, label, regression):\n",
    "    sample = sample.dropna(axis=1)\n",
    "    lasso = HSICLasso()\n",
    "    trainable_features = [column for column in sample.columns if column not in ['city', 'year', 'week_start_date']]\n",
    "    lasso.input(sample[trainable_features].iloc[:len(label)].values, label['total_cases'].values, featname=trainable_features)\n",
    "    lasso.regression(regression)\n",
    "    return lasso.get_features()"
   ]
  },
  {
   "cell_type": "code",
   "execution_count": 4,
   "metadata": {},
   "outputs": [],
   "source": [
    "training_samples = pd.read_csv('https://s3.amazonaws.com:443/drivendata/data/44/public/dengue_features_train.csv')\n",
    "training_labels = pd.read_csv('https://s3.amazonaws.com:443/drivendata/data/44/public/dengue_labels_train.csv')\n",
    "testing_samples = pd.read_csv('https://s3.amazonaws.com:443/drivendata/data/44/public/dengue_features_test.csv')"
   ]
  },
  {
   "cell_type": "code",
   "execution_count": 5,
   "metadata": {},
   "outputs": [],
   "source": [
    "training_samples = [sample[1] for sample in training_samples.groupby('city')]\n",
    "training_labels = [label[1] for label in training_labels.groupby('city')]\n",
    "testing_samples = [sample[1] for sample in testing_samples.groupby('city')]"
   ]
  },
  {
   "cell_type": "code",
   "execution_count": 6,
   "metadata": {},
   "outputs": [],
   "source": [
    "dengue_samples = [pd.read_csv('iq_exploded_features.csv'), pd.read_csv('sj_exploded_features.csv')]"
   ]
  },
  {
   "cell_type": "code",
   "execution_count": 7,
   "metadata": {},
   "outputs": [
    {
     "name": "stdout",
     "output_type": "stream",
     "text": [
      "Block HSIC Lasso B = 20.\n",
      "M set to 3.\n",
      "Using Gaussian kernel for the features, Gaussian kernel for the outcomes.\n"
     ]
    },
    {
     "name": "stderr",
     "output_type": "stream",
     "text": [
      "c:\\users\\christopher\\appdata\\local\\programs\\python\\python36\\lib\\site-packages\\pyHSICLasso\\nlars.py:77: RuntimeWarning:\n",
      "\n",
      "divide by zero encountered in true_divide\n",
      "\n",
      "c:\\users\\christopher\\appdata\\local\\programs\\python\\python36\\lib\\site-packages\\pyHSICLasso\\nlars.py:77: RuntimeWarning:\n",
      "\n",
      "invalid value encountered in true_divide\n",
      "\n",
      "c:\\users\\christopher\\appdata\\local\\programs\\python\\python36\\lib\\site-packages\\pyHSICLasso\\nlars.py:83: RuntimeWarning:\n",
      "\n",
      "invalid value encountered in less_equal\n",
      "\n",
      "c:\\users\\christopher\\appdata\\local\\programs\\python\\python36\\lib\\site-packages\\pyHSICLasso\\nlars.py:85: RuntimeWarning:\n",
      "\n",
      "invalid value encountered in less\n",
      "\n"
     ]
    },
    {
     "name": "stdout",
     "output_type": "stream",
     "text": [
      "Block HSIC Lasso B = 20.\n",
      "M set to 3.\n",
      "Using Gaussian kernel for the features, Gaussian kernel for the outcomes.\n"
     ]
    },
    {
     "name": "stderr",
     "output_type": "stream",
     "text": [
      "c:\\users\\christopher\\appdata\\local\\programs\\python\\python36\\lib\\site-packages\\pyHSICLasso\\api.py:107: RuntimeWarning:\n",
      "\n",
      "B 20 must be an exact divisor of the number of samples 936. Number of blocks 46.8 will be approximated to 46.\n",
      "\n",
      "c:\\users\\christopher\\appdata\\local\\programs\\python\\python36\\lib\\site-packages\\pyHSICLasso\\nlars.py:78: RuntimeWarning:\n",
      "\n",
      "divide by zero encountered in true_divide\n",
      "\n",
      "c:\\users\\christopher\\appdata\\local\\programs\\python\\python36\\lib\\site-packages\\pyHSICLasso\\nlars.py:80: RuntimeWarning:\n",
      "\n",
      "divide by zero encountered in true_divide\n",
      "\n"
     ]
    }
   ],
   "source": [
    "lasso_features = [get_lasso_features(sample, label, 100) for sample, label in zip(dengue_samples, training_labels)]"
   ]
  },
  {
   "cell_type": "code",
   "execution_count": 8,
   "metadata": {},
   "outputs": [],
   "source": [
    "if False:\n",
    "    for training_sample, testing_sample in zip(training_samples, testing_samples):\n",
    "        dengue_samples.append(pd.concat([training_sample, testing_sample]))\n",
    "    for i, sample in enumerate(dengue_samples):\n",
    "        sample = sample.interpolate()\n",
    "        generate_features(sample, [column for column in sample.columns if column not in ['city', 'year', 'week_start_date', 'weekofyear']])\n",
    "        trainable_features = [column for column in sample.columns if column not in ['city', 'year', 'week_start_date']]\n",
    "        sample[trainable_features] = sample[trainable_features].interpolate().fillna(method ='bfill')\n",
    "        city = sample['city'].iloc[0]\n",
    "        sample.to_csv(f'{city}_exploded_features.csv', index=False)\n",
    "        dengue_samples[i] = sample"
   ]
  },
  {
   "cell_type": "code",
   "execution_count": 9,
   "metadata": {},
   "outputs": [],
   "source": [
    "def test_features(sample, label, features, split=0.7):\n",
    "    y_training = label['total_cases'].values[:int(len(label) * split)]\n",
    "    y_validation = label['total_cases'].values[int(len(label) * split):]\n",
    "    x_training = sample[features].iloc[:int(len(label) * split)]\n",
    "    x_validation = sample[features].iloc[int(len(label) * split):len(label)]\n",
    "\n",
    "    # create dataset for lightgbm\n",
    "    lgb_train = lgb.Dataset(x_training, y_training)\n",
    "    lgb_eval = lgb.Dataset(x_validation, y_validation, reference=lgb_train)\n",
    "\n",
    "    # specify your configurations as a dict\n",
    "    params = {\n",
    "        'objective': 'regression',\n",
    "        'metric': {'l1'},\n",
    "        'num_leaves': 32,\n",
    "        'learning_rate': 0.05,\n",
    "        'feature_fraction': 0.9,\n",
    "        'bagging_fraction': 0.8,\n",
    "        'bagging_freq': 5, \n",
    "        'verbose':0\n",
    "    }\n",
    "\n",
    "    gbm = lgb.train(params,\n",
    "                    lgb_train,\n",
    "                    num_boost_round=60,\n",
    "                    early_stopping_rounds=5,\n",
    "                    valid_sets=lgb_eval)\n",
    "\n",
    "    y_pred = gbm.predict(x_validation, num_iteration=gbm.best_iteration)\n",
    "    return mean_absolute_error(y_validation, y_pred)"
   ]
  },
  {
   "cell_type": "code",
   "execution_count": 33,
   "metadata": {},
   "outputs": [],
   "source": [
    "def train_model(sample, label, features):\n",
    "    lgb_train = lgb.Dataset(sample[features].iloc[:len(label)], label['total_cases'])\n",
    "    params = {\n",
    "        'objective': 'regression',\n",
    "        'metric': {'l1'},\n",
    "        'num_leaves': 32,\n",
    "        'learning_rate': 0.05,\n",
    "        'feature_fraction': 0.9,\n",
    "        'bagging_fraction': 0.8,\n",
    "        'bagging_freq': 5,\n",
    "        'verbose': 1\n",
    "    }\n",
    "    gbm = lgb.train(params, lgb_train, num_boost_round=80)\n",
    "    return gbm"
   ]
  },
  {
   "cell_type": "code",
   "execution_count": 34,
   "metadata": {},
   "outputs": [],
   "source": [
    "def predict_values(sample, label, features, model):\n",
    "    return  model.predict(sample[features].iloc[len(label):], num_iteration=model.best_iteration)"
   ]
  },
  {
   "cell_type": "code",
   "execution_count": 35,
   "metadata": {},
   "outputs": [],
   "source": [
    "models = []\n",
    "for sample, label, features in zip(dengue_samples, training_labels, lasso_features):\n",
    "    models.append(train_model(sample, label, features))"
   ]
  },
  {
   "cell_type": "code",
   "execution_count": 36,
   "metadata": {},
   "outputs": [],
   "source": [
    "predictions = []\n",
    "for sample, label, features, model in zip(dengue_samples, training_labels, lasso_features, models):\n",
    "    predictions.append(np.around(predict_values(sample, label, features, model)).astype(np.int64))"
   ]
  },
  {
   "cell_type": "code",
   "execution_count": 37,
   "metadata": {},
   "outputs": [],
   "source": [
    "for i in range(2):\n",
    "    testing_samples[i]['total_cases'] = predictions[i]"
   ]
  },
  {
   "cell_type": "code",
   "execution_count": 38,
   "metadata": {},
   "outputs": [],
   "source": [
    "testing_samples.reverse()"
   ]
  },
  {
   "cell_type": "code",
   "execution_count": 39,
   "metadata": {},
   "outputs": [],
   "source": [
    "submission = pd.concat(testing_samples)[['city', 'year', 'weekofyear', 'total_cases']]\n",
    "submission.to_csv('submission.csv',index=False)"
   ]
  },
  {
   "cell_type": "code",
   "execution_count": null,
   "metadata": {},
   "outputs": [],
   "source": []
  }
 ],
 "metadata": {
  "kernelspec": {
   "display_name": "Python 3",
   "language": "python",
   "name": "python3"
  },
  "language_info": {
   "codemirror_mode": {
    "name": "ipython",
    "version": 3
   },
   "file_extension": ".py",
   "mimetype": "text/x-python",
   "name": "python",
   "nbconvert_exporter": "python",
   "pygments_lexer": "ipython3",
   "version": "3.6.3"
  }
 },
 "nbformat": 4,
 "nbformat_minor": 2
}
