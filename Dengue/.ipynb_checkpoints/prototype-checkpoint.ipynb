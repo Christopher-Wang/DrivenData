{
 "cells": [
  {
   "cell_type": "code",
   "execution_count": 46,
   "metadata": {},
   "outputs": [],
   "source": [
    "import pandas as pd\n",
    "import numpy as np\n",
    "from pyHSICLasso import HSICLasso\n",
    "from matrixprofile import *\n",
    "import lightgbm as lgb\n",
    "import plotly_express as px\n",
    "from sklearn.metrics import *"
   ]
  },
  {
   "cell_type": "code",
   "execution_count": 47,
   "metadata": {},
   "outputs": [],
   "source": [
    "training_samples = pd.read_csv('https://s3.amazonaws.com:443/drivendata/data/44/public/dengue_features_train.csv')\n",
    "training_labels = pd.read_csv('https://s3.amazonaws.com:443/drivendata/data/44/public/dengue_labels_train.csv')\n",
    "testing_samples = pd.read_csv('https://s3.amazonaws.com:443/drivendata/data/44/public/dengue_features_test.csv')"
   ]
  },
  {
   "cell_type": "code",
   "execution_count": 58,
   "metadata": {},
   "outputs": [
    {
     "data": {
      "text/plain": [
       "True"
      ]
     },
     "execution_count": 58,
     "metadata": {},
     "output_type": "execute_result"
    }
   ],
   "source": [
    "training_split = 1456"
   ]
  },
  {
   "cell_type": "code",
   "execution_count": 53,
   "metadata": {},
   "outputs": [],
   "source": [
    "samples = pd.concat([training_samples, testing_samples])"
   ]
  },
  {
   "cell_type": "code",
   "execution_count": 60,
   "metadata": {},
   "outputs": [
    {
     "name": "stderr",
     "output_type": "stream",
     "text": [
      "c:\\users\\christopher\\appdata\\local\\programs\\python\\python36\\lib\\site-packages\\matrixprofile\\utils.py:177: RuntimeWarning:\n",
      "\n",
      "divide by zero encountered in true_divide\n",
      "\n",
      "c:\\users\\christopher\\appdata\\local\\programs\\python\\python36\\lib\\site-packages\\matrixprofile\\utils.py:177: RuntimeWarning:\n",
      "\n",
      "invalid value encountered in true_divide\n",
      "\n",
      "c:\\users\\christopher\\appdata\\local\\programs\\python\\python36\\lib\\site-packages\\matrixprofile\\matrixProfile.py:172: RuntimeWarning:\n",
      "\n",
      "invalid value encountered in less\n",
      "\n",
      "c:\\users\\christopher\\appdata\\local\\programs\\python\\python36\\lib\\site-packages\\matrixprofile\\matrixProfile.py:178: RuntimeWarning:\n",
      "\n",
      "invalid value encountered in minimum\n",
      "\n",
      "c:\\users\\christopher\\appdata\\local\\programs\\python\\python36\\lib\\site-packages\\matrixprofile\\utils.py:200: RuntimeWarning:\n",
      "\n",
      "divide by zero encountered in true_divide\n",
      "\n",
      "c:\\users\\christopher\\appdata\\local\\programs\\python\\python36\\lib\\site-packages\\matrixprofile\\utils.py:200: RuntimeWarning:\n",
      "\n",
      "invalid value encountered in true_divide\n",
      "\n",
      "c:\\users\\christopher\\appdata\\local\\programs\\python\\python36\\lib\\site-packages\\matrixprofile\\utils.py:68: RuntimeWarning:\n",
      "\n",
      "invalid value encountered in sqrt\n",
      "\n"
     ]
    }
   ],
   "source": [
    "if True:\n",
    "    features = [column for column in samples.columns if column not in ['city', 'year', 'week_start_date', 'weekofyear']]\n",
    "    samples = samples.interpolate()\n",
    "    generate_features(samples, features)"
   ]
  },
  {
   "cell_type": "code",
   "execution_count": 45,
   "metadata": {},
   "outputs": [],
   "source": [
    "x_train['city_class'] = pd.factorize(samples['city'])\n",
    "x_train.drop('Unnamed: 0', inplace=True, axis=1)\n",
    "samples.to_csv('exploded_features.csv')"
   ]
  },
  {
   "cell_type": "code",
   "execution_count": 34,
   "metadata": {},
   "outputs": [],
   "source": [
    "def generate_features(df, features, windows=range(2, 8), functions=[('mean', np.mean),('std', np.std),('max', np.max),('min', np.min)]):\n",
    "    for feature in features: \n",
    "        for window in windows:\n",
    "            df[f'matrix_profile.{window}.{feature}'] = np.concatenate((np.zeros(window - 1), matrixProfile.stomp(df[feature].values, window)[0]), axis=0)\n",
    "            for function in functions:\n",
    "                df[f'{function[0]}.{window}.{feature}'] = df[feature].rolling(window).apply(function[1])\n",
    "    return df"
   ]
  },
  {
   "cell_type": "code",
   "execution_count": 36,
   "metadata": {},
   "outputs": [],
   "source": [
    "lasso = HSICLasso()\n",
    "features = [column for column in x_train.columns if column not in ['city', 'year', 'week_start_date']]"
   ]
  },
  {
   "cell_type": "code",
   "execution_count": 37,
   "metadata": {},
   "outputs": [],
   "source": [
    "x_train[features] = x_train[features].interpolate().bfill()"
   ]
  },
  {
   "cell_type": "code",
   "execution_count": 39,
   "metadata": {},
   "outputs": [
    {
     "data": {
      "text/plain": [
       "True"
      ]
     },
     "execution_count": 39,
     "metadata": {},
     "output_type": "execute_result"
    }
   ],
   "source": [
    "lasso.input(x_train[features].values, y_train['total_cases'].values, featname=features)"
   ]
  },
  {
   "cell_type": "code",
   "execution_count": 41,
   "metadata": {},
   "outputs": [
    {
     "name": "stdout",
     "output_type": "stream",
     "text": [
      "Block HSIC Lasso B = 1456.\n",
      "M set to 1.\n",
      "Using Gaussian kernel for the features, Gaussian kernel for the outcomes.\n"
     ]
    },
    {
     "data": {
      "text/plain": [
       "['mean.7.reanalysis_min_air_temp_k',\n",
       " 'max.7.station_min_temp_c',\n",
       " 'matrix_profile.6.station_min_temp_c',\n",
       " 'max.7.reanalysis_min_air_temp_k',\n",
       " 'weekofyear',\n",
       " 'std.7.reanalysis_min_air_temp_k',\n",
       " 'matrix_profile.5.station_max_temp_c',\n",
       " 'max.7.station_diur_temp_rng_c',\n",
       " 'std.7.ndvi_se',\n",
       " 'std.7.reanalysis_dew_point_temp_k',\n",
       " 'std.7.ndvi_nw',\n",
       " 'std.7.station_diur_temp_rng_c',\n",
       " 'min.7.reanalysis_relative_humidity_percent',\n",
       " 'min.7.reanalysis_dew_point_temp_k',\n",
       " 'mean.7.station_min_temp_c',\n",
       " 'matrix_profile.6.ndvi_se',\n",
       " 'matrix_profile.5.ndvi_sw',\n",
       " 'matrix_profile.2.ndvi_sw',\n",
       " 'matrix_profile.5.ndvi_se',\n",
       " 'max.3.ndvi_se',\n",
       " 'matrix_profile.7.reanalysis_precip_amt_kg_per_m2',\n",
       " 'matrix_profile.4.station_precip_mm',\n",
       " 'matrix_profile.7.ndvi_ne',\n",
       " 'max.7.reanalysis_air_temp_k',\n",
       " 'matrix_profile.5.ndvi_nw',\n",
       " 'matrix_profile.3.station_precip_mm',\n",
       " 'matrix_profile.7.ndvi_nw',\n",
       " 'std.2.ndvi_nw',\n",
       " 'matrix_profile.6.reanalysis_precip_amt_kg_per_m2',\n",
       " 'matrix_profile.6.station_diur_temp_rng_c',\n",
       " 'matrix_profile.4.ndvi_nw',\n",
       " 'matrix_profile.4.reanalysis_relative_humidity_percent',\n",
       " 'matrix_profile.4.ndvi_sw',\n",
       " 'mean.4.ndvi_se',\n",
       " 'matrix_profile.6.ndvi_sw',\n",
       " 'matrix_profile.4.ndvi_se',\n",
       " 'matrix_profile.4.reanalysis_min_air_temp_k',\n",
       " 'min.7.reanalysis_air_temp_k',\n",
       " 'matrix_profile.3.ndvi_sw',\n",
       " 'matrix_profile.4.ndvi_ne',\n",
       " 'matrix_profile.7.reanalysis_tdtr_k',\n",
       " 'matrix_profile.7.ndvi_sw',\n",
       " 'matrix_profile.7.station_diur_temp_rng_c',\n",
       " 'matrix_profile.5.station_diur_temp_rng_c',\n",
       " 'matrix_profile.7.ndvi_se',\n",
       " 'matrix_profile.5.reanalysis_min_air_temp_k',\n",
       " 'matrix_profile.4.reanalysis_air_temp_k',\n",
       " 'matrix_profile.3.ndvi_nw',\n",
       " 'mean.7.reanalysis_air_temp_k',\n",
       " 'matrix_profile.5.station_avg_temp_c',\n",
       " 'matrix_profile.3.ndvi_se',\n",
       " 'matrix_profile.3.reanalysis_avg_temp_k',\n",
       " 'matrix_profile.6.reanalysis_relative_humidity_percent',\n",
       " 'matrix_profile.5.reanalysis_relative_humidity_percent',\n",
       " 'matrix_profile.4.station_diur_temp_rng_c',\n",
       " 'matrix_profile.4.station_avg_temp_c',\n",
       " 'matrix_profile.5.reanalysis_precip_amt_kg_per_m2',\n",
       " 'matrix_profile.6.ndvi_nw',\n",
       " 'matrix_profile.3.station_diur_temp_rng_c',\n",
       " 'std.2.ndvi_ne',\n",
       " 'matrix_profile.6.reanalysis_max_air_temp_k',\n",
       " 'matrix_profile.4.reanalysis_avg_temp_k',\n",
       " 'matrix_profile.3.reanalysis_air_temp_k',\n",
       " 'matrix_profile.3.reanalysis_relative_humidity_percent',\n",
       " 'matrix_profile.3.station_avg_temp_c',\n",
       " 'matrix_profile.3.reanalysis_tdtr_k',\n",
       " 'matrix_profile.3.reanalysis_specific_humidity_g_per_kg',\n",
       " 'matrix_profile.6.reanalysis_tdtr_k',\n",
       " 'matrix_profile.4.reanalysis_dew_point_temp_k',\n",
       " 'matrix_profile.6.station_avg_temp_c',\n",
       " 'matrix_profile.7.reanalysis_relative_humidity_percent',\n",
       " 'min.7.station_precip_mm',\n",
       " 'matrix_profile.6.ndvi_ne',\n",
       " 'matrix_profile.5.reanalysis_air_temp_k',\n",
       " 'matrix_profile.2.reanalysis_relative_humidity_percent',\n",
       " 'matrix_profile.5.reanalysis_max_air_temp_k',\n",
       " 'matrix_profile.6.reanalysis_avg_temp_k',\n",
       " 'matrix_profile.4.reanalysis_tdtr_k',\n",
       " 'matrix_profile.7.station_min_temp_c',\n",
       " 'matrix_profile.3.reanalysis_precip_amt_kg_per_m2']"
      ]
     },
     "execution_count": 41,
     "metadata": {},
     "output_type": "execute_result"
    }
   ],
   "source": [
    "lasso.regression(100, B=0, M=1)\n",
    "lasso.get_features()"
   ]
  },
  {
   "cell_type": "code",
   "execution_count": 139,
   "metadata": {},
   "outputs": [
    {
     "name": "stdout",
     "output_type": "stream",
     "text": [
      "[1]\tvalid_0's l1: 21.7202\n",
      "Training until validation scores don't improve for 5 rounds.\n",
      "[2]\tvalid_0's l1: 20.7748\n",
      "[3]\tvalid_0's l1: 19.7751\n",
      "[4]\tvalid_0's l1: 18.9811\n",
      "[5]\tvalid_0's l1: 18.1708\n",
      "[6]\tvalid_0's l1: 17.9187\n",
      "[7]\tvalid_0's l1: 17.4055\n",
      "[8]\tvalid_0's l1: 16.9262\n",
      "[9]\tvalid_0's l1: 16.7505\n",
      "[10]\tvalid_0's l1: 16.4168\n",
      "[11]\tvalid_0's l1: 15.9075\n",
      "[12]\tvalid_0's l1: 15.6832\n",
      "[13]\tvalid_0's l1: 15.1505\n",
      "[14]\tvalid_0's l1: 14.6982\n",
      "[15]\tvalid_0's l1: 14.3966\n",
      "[16]\tvalid_0's l1: 13.951\n",
      "[17]\tvalid_0's l1: 13.5356\n",
      "[18]\tvalid_0's l1: 13.2004\n",
      "[19]\tvalid_0's l1: 13.1091\n",
      "[20]\tvalid_0's l1: 12.7726\n",
      "[21]\tvalid_0's l1: 12.5093\n",
      "[22]\tvalid_0's l1: 12.3125\n",
      "[23]\tvalid_0's l1: 12.1655\n",
      "[24]\tvalid_0's l1: 11.9693\n",
      "[25]\tvalid_0's l1: 11.732\n",
      "[26]\tvalid_0's l1: 11.6784\n",
      "[27]\tvalid_0's l1: 11.6374\n",
      "[28]\tvalid_0's l1: 11.6266\n",
      "[29]\tvalid_0's l1: 11.594\n",
      "[30]\tvalid_0's l1: 11.5871\n",
      "[31]\tvalid_0's l1: 11.3449\n",
      "[32]\tvalid_0's l1: 11.3745\n",
      "[33]\tvalid_0's l1: 11.289\n",
      "[34]\tvalid_0's l1: 11.0966\n",
      "[35]\tvalid_0's l1: 11.1413\n",
      "[36]\tvalid_0's l1: 11.0325\n",
      "[37]\tvalid_0's l1: 11.0537\n",
      "[38]\tvalid_0's l1: 10.9059\n",
      "[39]\tvalid_0's l1: 10.9545\n",
      "[40]\tvalid_0's l1: 11.0503\n",
      "[41]\tvalid_0's l1: 11.1178\n",
      "[42]\tvalid_0's l1: 11.1583\n",
      "[43]\tvalid_0's l1: 11.2257\n",
      "Early stopping, best iteration is:\n",
      "[38]\tvalid_0's l1: 10.9059\n",
      "The mae of prediction is: 3.3024058154142115\n"
     ]
    }
   ],
   "source": [
    "y_training = y_train['total_cases'].values[:1100]\n",
    "y_validation = y_train['total_cases'].values[1100:]\n",
    "x_training = x_train[features].iloc[:1100]\n",
    "x_validation = x_train[features].iloc[1100:]\n",
    "\n",
    "# create dataset for lightgbm\n",
    "lgb_train = lgb.Dataset(x_training, y_training)\n",
    "lgb_eval = lgb.Dataset(x_validation, y_validation, reference=lgb_train)\n",
    "\n",
    "# specify your configurations as a dict\n",
    "params = {\n",
    "    'objective': 'regression',\n",
    "    'metric': {'l1'},\n",
    "    'num_leaves': 32,\n",
    "    'learning_rate': 0.05,\n",
    "    'feature_fraction': 0.9,\n",
    "    'bagging_fraction': 0.8,\n",
    "    'bagging_freq': 5,\n",
    "    'verbose': 1\n",
    "}\n",
    "\n",
    "gbm = lgb.train(params,\n",
    "                lgb_train,\n",
    "                num_boost_round=100,\n",
    "                early_stopping_rounds=5,\n",
    "                valid_sets=lgb_eval)\n",
    "\n",
    "y_pred = gbm.predict(x_validation, num_iteration=gbm.best_iteration)\n",
    "print('The mae of prediction is:', mean_absolute_error(y_validation, y_pred) ** 0.5)"
   ]
  },
  {
   "cell_type": "code",
   "execution_count": 112,
   "metadata": {},
   "outputs": [],
   "source": [
    "# create dataset for lightgbm\n",
    "lgb_train = lgb.Dataset(x_train[features], y_train['total_cases'])\n",
    "\n",
    "# specify your configurations as a dict\n",
    "params = {\n",
    "    'objective': 'regression',\n",
    "    'metric': {'l1'},\n",
    "    'num_leaves': 32,\n",
    "    'learning_rate': 0.05,\n",
    "    'feature_fraction': 0.9,\n",
    "    'bagging_fraction': 0.8,\n",
    "    'bagging_freq': 5,\n",
    "    'verbose': 1\n",
    "}\n",
    "\n",
    "gbm = lgb.train(params,\n",
    "                lgb_train,\n",
    "                num_boost_round=40)"
   ]
  },
  {
   "cell_type": "code",
   "execution_count": 115,
   "metadata": {},
   "outputs": [
    {
     "name": "stderr",
     "output_type": "stream",
     "text": [
      "c:\\users\\christopher\\appdata\\local\\programs\\python\\python36\\lib\\site-packages\\matrixprofile\\utils.py:177: RuntimeWarning:\n",
      "\n",
      "divide by zero encountered in true_divide\n",
      "\n",
      "c:\\users\\christopher\\appdata\\local\\programs\\python\\python36\\lib\\site-packages\\matrixprofile\\utils.py:177: RuntimeWarning:\n",
      "\n",
      "invalid value encountered in true_divide\n",
      "\n",
      "c:\\users\\christopher\\appdata\\local\\programs\\python\\python36\\lib\\site-packages\\matrixprofile\\matrixProfile.py:172: RuntimeWarning:\n",
      "\n",
      "invalid value encountered in less\n",
      "\n",
      "c:\\users\\christopher\\appdata\\local\\programs\\python\\python36\\lib\\site-packages\\matrixprofile\\matrixProfile.py:178: RuntimeWarning:\n",
      "\n",
      "invalid value encountered in minimum\n",
      "\n",
      "c:\\users\\christopher\\appdata\\local\\programs\\python\\python36\\lib\\site-packages\\matrixprofile\\utils.py:200: RuntimeWarning:\n",
      "\n",
      "divide by zero encountered in true_divide\n",
      "\n",
      "c:\\users\\christopher\\appdata\\local\\programs\\python\\python36\\lib\\site-packages\\matrixprofile\\utils.py:200: RuntimeWarning:\n",
      "\n",
      "invalid value encountered in true_divide\n",
      "\n",
      "c:\\users\\christopher\\appdata\\local\\programs\\python\\python36\\lib\\site-packages\\matrixprofile\\utils.py:68: RuntimeWarning:\n",
      "\n",
      "invalid value encountered in sqrt\n",
      "\n"
     ]
    }
   ],
   "source": [
    "features = [column for column in test.columns if column not in ['city', 'year', 'week_start_date', 'weekofyear']]\n",
    "test = test.interpolate()\n",
    "info  = test[['city', 'year', 'week_start_date', 'weekofyear']]\n",
    "test = generate_features(test, features)"
   ]
  },
  {
   "cell_type": "code",
   "execution_count": 117,
   "metadata": {},
   "outputs": [],
   "source": [
    "features = [column for column in test.columns if column not in ['city', 'year', 'week_start_date']]"
   ]
  },
  {
   "cell_type": "code",
   "execution_count": 116,
   "metadata": {},
   "outputs": [],
   "source": [
    "test = info.merge(test)"
   ]
  },
  {
   "cell_type": "code",
   "execution_count": 140,
   "metadata": {},
   "outputs": [],
   "source": [
    "y_pred = gbm.predict(test[features], num_iteration=gbm.best_iteration)"
   ]
  },
  {
   "cell_type": "code",
   "execution_count": 141,
   "metadata": {},
   "outputs": [],
   "source": [
    "test['total_cases'] = np.around(y_pred).astype(np.int64)"
   ]
  },
  {
   "cell_type": "code",
   "execution_count": 142,
   "metadata": {},
   "outputs": [],
   "source": [
    "submission = test[['city', 'year', 'weekofyear', 'total_cases']]\n",
    "submission.to_csv('submission.csv',index=False)"
   ]
  },
  {
   "cell_type": "code",
   "execution_count": null,
   "metadata": {},
   "outputs": [],
   "source": []
  }
 ],
 "metadata": {
  "kernelspec": {
   "display_name": "Python 3",
   "language": "python",
   "name": "python3"
  },
  "language_info": {
   "codemirror_mode": {
    "name": "ipython",
    "version": 3
   },
   "file_extension": ".py",
   "mimetype": "text/x-python",
   "name": "python",
   "nbconvert_exporter": "python",
   "pygments_lexer": "ipython3",
   "version": "3.6.3"
  }
 },
 "nbformat": 4,
 "nbformat_minor": 2
}
