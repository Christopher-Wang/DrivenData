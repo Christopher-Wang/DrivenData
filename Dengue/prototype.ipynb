{
 "cells": [
  {
   "cell_type": "code",
   "execution_count": 5,
   "metadata": {},
   "outputs": [],
   "source": [
    "import pandas as pd\n",
    "import numpy as np\n",
    "from pyHSICLasso import HSICLasso\n",
    "from matrixprofile import *\n",
    "import lightgbm as lgb\n",
    "import plotly_express as px\n",
    "from sklearn.metrics import *"
   ]
  },
  {
   "cell_type": "code",
   "execution_count": 6,
   "metadata": {},
   "outputs": [],
   "source": [
    "def generate_features(df, features, windows=range(2, 8), functions=[('mean', np.mean),('std', np.std),('max', np.max),('min', np.min)]):\n",
    "    for feature in features: \n",
    "        for window in windows:\n",
    "            df[f'matrix_profile.{window}.{feature}'] = np.concatenate((np.zeros(window - 1), matrixProfile.stomp(df[feature].values, window)[0]), axis=0)\n",
    "            for function in functions:\n",
    "                df[f'{function[0]}.{window}.{feature}'] = df[feature].rolling(window).apply(function[1])\n",
    "    return df"
   ]
  },
  {
   "cell_type": "code",
   "execution_count": 7,
   "metadata": {},
   "outputs": [],
   "source": [
    "training_samples = pd.read_csv('https://s3.amazonaws.com:443/drivendata/data/44/public/dengue_features_train.csv')\n",
    "training_labels = pd.read_csv('https://s3.amazonaws.com:443/drivendata/data/44/public/dengue_labels_train.csv')\n",
    "testing_samples = pd.read_csv('https://s3.amazonaws.com:443/drivendata/data/44/public/dengue_features_test.csv')"
   ]
  },
  {
   "cell_type": "code",
   "execution_count": 8,
   "metadata": {},
   "outputs": [],
   "source": [
    "training_split = 1456"
   ]
  },
  {
   "cell_type": "code",
   "execution_count": 14,
   "metadata": {},
   "outputs": [],
   "source": [
    "samples = pd.read_csv('exploded_features.csv')\n",
    "samples.drop('Unnamed: 0', inplace=True, axis=1)"
   ]
  },
  {
   "cell_type": "code",
   "execution_count": 9,
   "metadata": {},
   "outputs": [],
   "source": [
    "if False:\n",
    "    samples = pd.concat([training_samples, testing_samples])\n",
    "    features = [column for column in samples.columns if column not in ['city', 'year', 'week_start_date', 'weekofyear']]\n",
    "    samples = samples.interpolate()\n",
    "    generate_features(samples, features)\n",
    "    trainable_features = [column for column in samples.columns if column not in ['city', 'year', 'week_start_date']]\n",
    "    samples['city_class'] = pd.factorize(samples['city'])[0]\n",
    "    samples[trainable_features] = samples[trainable_features].interpolate().bfill()\n",
    "    samples.to_csv('exploded_features.csv')"
   ]
  },
  {
   "cell_type": "code",
   "execution_count": 47,
   "metadata": {},
   "outputs": [
    {
     "name": "stdout",
     "output_type": "stream",
     "text": [
      "Block HSIC Lasso B = 20.\n",
      "M set to 3.\n",
      "Using Gaussian kernel for the features, Gaussian kernel for the outcomes.\n"
     ]
    },
    {
     "name": "stderr",
     "output_type": "stream",
     "text": [
      "c:\\users\\christopher\\appdata\\local\\programs\\python\\python36\\lib\\site-packages\\pyHSICLasso\\api.py:107: RuntimeWarning:\n",
      "\n",
      "B 20 must be an exact divisor of the number of samples 1456. Number of blocks 72.8 will be approximated to 72.\n",
      "\n"
     ]
    },
    {
     "data": {
      "text/plain": [
       "True"
      ]
     },
     "execution_count": 47,
     "metadata": {},
     "output_type": "execute_result"
    }
   ],
   "source": [
    "lasso = HSICLasso()\n",
    "trainable_features = [column for column in samples.columns if column not in ['city', 'year', 'week_start_date']]\n",
    "lasso.input(samples[trainable_features].iloc[:training_split].values, training_labels['total_cases'].values, featname=trainable_features)\n"
   ]
  },
  {
   "cell_type": "code",
   "execution_count": 56,
   "metadata": {},
   "outputs": [],
   "source": [
    "def test_features(features):\n",
    "    y_training = training_labels['total_cases'].values[:1100]\n",
    "    y_validation = training_labels['total_cases'].values[1100:]\n",
    "    x_training = samples[features].iloc[:1100]\n",
    "    x_validation = samples[features].iloc[1100:training_split]\n",
    "\n",
    "    # create dataset for lightgbm\n",
    "    lgb_train = lgb.Dataset(x_training, y_training)\n",
    "    lgb_eval = lgb.Dataset(x_validation, y_validation, reference=lgb_train)\n",
    "\n",
    "    # specify your configurations as a dict\n",
    "    params = {\n",
    "        'objective': 'regression',\n",
    "        'metric': {'l1'},\n",
    "        'num_leaves': 32,\n",
    "        'learning_rate': 0.05,\n",
    "        'feature_fraction': 0.9,\n",
    "        'bagging_fraction': 0.8,\n",
    "        'bagging_freq': 5, \n",
    "        'verbose':0\n",
    "    }\n",
    "\n",
    "    gbm = lgb.train(params,\n",
    "                    lgb_train,\n",
    "                    num_boost_round=60,\n",
    "                    early_stopping_rounds=5,\n",
    "                    valid_sets=lgb_eval)\n",
    "\n",
    "    y_pred = gbm.predict(x_validation, num_iteration=gbm.best_iteration)\n",
    "    return mean_absolute_error(y_validation, y_pred)"
   ]
  },
  {
   "cell_type": "code",
   "execution_count": 57,
   "metadata": {},
   "outputs": [
    {
     "name": "stdout",
     "output_type": "stream",
     "text": [
      "[1]\tvalid_0's l1: 21.5584\n",
      "Training until validation scores don't improve for 5 rounds.\n",
      "[2]\tvalid_0's l1: 20.5923\n",
      "[3]\tvalid_0's l1: 19.593\n",
      "[4]\tvalid_0's l1: 18.6549\n",
      "[5]\tvalid_0's l1: 18.032\n",
      "[6]\tvalid_0's l1: 17.5497\n",
      "[7]\tvalid_0's l1: 17.2754\n",
      "[8]\tvalid_0's l1: 16.8484\n",
      "[9]\tvalid_0's l1: 16.7138\n",
      "[10]\tvalid_0's l1: 16.4835\n",
      "[11]\tvalid_0's l1: 15.8829\n",
      "[12]\tvalid_0's l1: 15.4834\n",
      "[13]\tvalid_0's l1: 15.0537\n",
      "[14]\tvalid_0's l1: 14.5942\n",
      "[15]\tvalid_0's l1: 14.1352\n",
      "[16]\tvalid_0's l1: 13.6777\n",
      "[17]\tvalid_0's l1: 13.2438\n",
      "[18]\tvalid_0's l1: 13.0048\n",
      "[19]\tvalid_0's l1: 12.6867\n",
      "[20]\tvalid_0's l1: 12.4209\n",
      "[21]\tvalid_0's l1: 12.2834\n",
      "[22]\tvalid_0's l1: 12.1504\n",
      "[23]\tvalid_0's l1: 11.9002\n",
      "[24]\tvalid_0's l1: 11.6406\n",
      "[25]\tvalid_0's l1: 11.3399\n",
      "[26]\tvalid_0's l1: 11.3135\n",
      "[27]\tvalid_0's l1: 11.277\n",
      "[28]\tvalid_0's l1: 11.2832\n",
      "[29]\tvalid_0's l1: 11.2728\n",
      "[30]\tvalid_0's l1: 11.2657\n",
      "[31]\tvalid_0's l1: 11.0592\n",
      "[32]\tvalid_0's l1: 10.8621\n",
      "[33]\tvalid_0's l1: 10.6553\n",
      "[34]\tvalid_0's l1: 10.4665\n",
      "[35]\tvalid_0's l1: 10.3152\n",
      "[36]\tvalid_0's l1: 10.3262\n",
      "[37]\tvalid_0's l1: 10.3466\n",
      "[38]\tvalid_0's l1: 10.2357\n",
      "[39]\tvalid_0's l1: 10.0782\n",
      "[40]\tvalid_0's l1: 10.078\n",
      "[41]\tvalid_0's l1: 10.1483\n",
      "[42]\tvalid_0's l1: 10.2306\n",
      "[43]\tvalid_0's l1: 10.3027\n",
      "[44]\tvalid_0's l1: 10.2108\n",
      "[45]\tvalid_0's l1: 10.1052\n",
      "Early stopping, best iteration is:\n",
      "[40]\tvalid_0's l1: 10.078\n"
     ]
    },
    {
     "data": {
      "text/plain": [
       "10.078008952243577"
      ]
     },
     "execution_count": 57,
     "metadata": {},
     "output_type": "execute_result"
    }
   ],
   "source": [
    "test_features(trainable_features)"
   ]
  },
  {
   "cell_type": "code",
   "execution_count": 59,
   "metadata": {},
   "outputs": [
    {
     "name": "stdout",
     "output_type": "stream",
     "text": [
      "[1]\tvalid_0's l1: 21.7609\n",
      "Training until validation scores don't improve for 5 rounds.\n",
      "[2]\tvalid_0's l1: 20.7669\n",
      "[3]\tvalid_0's l1: 19.9261\n",
      "[4]\tvalid_0's l1: 19.0925\n",
      "[5]\tvalid_0's l1: 18.3671\n",
      "[6]\tvalid_0's l1: 17.7698\n",
      "[7]\tvalid_0's l1: 17.0796\n",
      "[8]\tvalid_0's l1: 16.4766\n",
      "[9]\tvalid_0's l1: 15.8094\n",
      "[10]\tvalid_0's l1: 15.2683\n",
      "[11]\tvalid_0's l1: 14.9449\n",
      "[12]\tvalid_0's l1: 14.5762\n",
      "[13]\tvalid_0's l1: 14.222\n",
      "[14]\tvalid_0's l1: 13.7928\n",
      "[15]\tvalid_0's l1: 13.5307\n",
      "[16]\tvalid_0's l1: 13.1986\n",
      "[17]\tvalid_0's l1: 12.8428\n",
      "[18]\tvalid_0's l1: 12.4441\n",
      "[19]\tvalid_0's l1: 12.1487\n",
      "[20]\tvalid_0's l1: 11.8782\n",
      "[21]\tvalid_0's l1: 11.6026\n",
      "[22]\tvalid_0's l1: 11.3279\n",
      "[23]\tvalid_0's l1: 11.0825\n",
      "[24]\tvalid_0's l1: 10.9277\n",
      "[25]\tvalid_0's l1: 10.6532\n",
      "[26]\tvalid_0's l1: 10.4049\n",
      "[27]\tvalid_0's l1: 10.1859\n",
      "[28]\tvalid_0's l1: 9.93326\n",
      "[29]\tvalid_0's l1: 9.76791\n",
      "[30]\tvalid_0's l1: 9.58436\n",
      "[31]\tvalid_0's l1: 9.4219\n",
      "[32]\tvalid_0's l1: 9.29935\n",
      "[33]\tvalid_0's l1: 9.11777\n",
      "[34]\tvalid_0's l1: 8.92957\n",
      "[35]\tvalid_0's l1: 8.87137\n",
      "[36]\tvalid_0's l1: 8.81824\n",
      "[37]\tvalid_0's l1: 8.69834\n",
      "[38]\tvalid_0's l1: 8.65428\n",
      "[39]\tvalid_0's l1: 8.55763\n",
      "[40]\tvalid_0's l1: 8.46227\n",
      "[41]\tvalid_0's l1: 8.3557\n",
      "[42]\tvalid_0's l1: 8.24906\n",
      "[43]\tvalid_0's l1: 8.23249\n",
      "[44]\tvalid_0's l1: 8.15333\n",
      "[45]\tvalid_0's l1: 8.15702\n",
      "[46]\tvalid_0's l1: 8.09409\n",
      "[47]\tvalid_0's l1: 8.03849\n",
      "[48]\tvalid_0's l1: 8.03591\n",
      "[49]\tvalid_0's l1: 8.02727\n",
      "[50]\tvalid_0's l1: 8.03261\n",
      "[51]\tvalid_0's l1: 8.01993\n",
      "[52]\tvalid_0's l1: 7.97623\n",
      "[53]\tvalid_0's l1: 7.94891\n",
      "[54]\tvalid_0's l1: 7.96999\n",
      "[55]\tvalid_0's l1: 7.93235\n",
      "[56]\tvalid_0's l1: 7.9282\n",
      "[57]\tvalid_0's l1: 7.94042\n",
      "[58]\tvalid_0's l1: 7.92829\n",
      "[59]\tvalid_0's l1: 7.92203\n",
      "[60]\tvalid_0's l1: 7.92532\n",
      "Did not meet early stopping. Best iteration is:\n",
      "[59]\tvalid_0's l1: 7.92203\n"
     ]
    },
    {
     "data": {
      "text/plain": [
       "7.9220323563136255"
      ]
     },
     "execution_count": 59,
     "metadata": {},
     "output_type": "execute_result"
    }
   ],
   "source": [
    "test_features(lasso.get_features())"
   ]
  },
  {
   "cell_type": "code",
   "execution_count": 112,
   "metadata": {},
   "outputs": [],
   "source": [
    "# create dataset for lightgbm\n",
    "lgb_train = lgb.Dataset(x_train[features], y_train['total_cases'])\n",
    "\n",
    "# specify your configurations as a dict\n",
    "params = {\n",
    "    'objective': 'regression',\n",
    "    'metric': {'l1'},\n",
    "    'num_leaves': 32,\n",
    "    'learning_rate': 0.05,\n",
    "    'feature_fraction': 0.9,\n",
    "    'bagging_fraction': 0.8,\n",
    "    'bagging_freq': 5,\n",
    "    'verbose': 1\n",
    "}\n",
    "\n",
    "gbm = lgb.train(params,\n",
    "                lgb_train,\n",
    "                num_boost_round=40)"
   ]
  },
  {
   "cell_type": "code",
   "execution_count": 115,
   "metadata": {},
   "outputs": [
    {
     "name": "stderr",
     "output_type": "stream",
     "text": [
      "c:\\users\\christopher\\appdata\\local\\programs\\python\\python36\\lib\\site-packages\\matrixprofile\\utils.py:177: RuntimeWarning:\n",
      "\n",
      "divide by zero encountered in true_divide\n",
      "\n",
      "c:\\users\\christopher\\appdata\\local\\programs\\python\\python36\\lib\\site-packages\\matrixprofile\\utils.py:177: RuntimeWarning:\n",
      "\n",
      "invalid value encountered in true_divide\n",
      "\n",
      "c:\\users\\christopher\\appdata\\local\\programs\\python\\python36\\lib\\site-packages\\matrixprofile\\matrixProfile.py:172: RuntimeWarning:\n",
      "\n",
      "invalid value encountered in less\n",
      "\n",
      "c:\\users\\christopher\\appdata\\local\\programs\\python\\python36\\lib\\site-packages\\matrixprofile\\matrixProfile.py:178: RuntimeWarning:\n",
      "\n",
      "invalid value encountered in minimum\n",
      "\n",
      "c:\\users\\christopher\\appdata\\local\\programs\\python\\python36\\lib\\site-packages\\matrixprofile\\utils.py:200: RuntimeWarning:\n",
      "\n",
      "divide by zero encountered in true_divide\n",
      "\n",
      "c:\\users\\christopher\\appdata\\local\\programs\\python\\python36\\lib\\site-packages\\matrixprofile\\utils.py:200: RuntimeWarning:\n",
      "\n",
      "invalid value encountered in true_divide\n",
      "\n",
      "c:\\users\\christopher\\appdata\\local\\programs\\python\\python36\\lib\\site-packages\\matrixprofile\\utils.py:68: RuntimeWarning:\n",
      "\n",
      "invalid value encountered in sqrt\n",
      "\n"
     ]
    }
   ],
   "source": [
    "features = [column for column in test.columns if column not in ['city', 'year', 'week_start_date', 'weekofyear']]\n",
    "test = test.interpolate()\n",
    "info  = test[['city', 'year', 'week_start_date', 'weekofyear']]\n",
    "test = generate_features(test, features)"
   ]
  },
  {
   "cell_type": "code",
   "execution_count": 117,
   "metadata": {},
   "outputs": [],
   "source": [
    "features = [column for column in test.columns if column not in ['city', 'year', 'week_start_date']]"
   ]
  },
  {
   "cell_type": "code",
   "execution_count": 116,
   "metadata": {},
   "outputs": [],
   "source": [
    "test = info.merge(test)"
   ]
  },
  {
   "cell_type": "code",
   "execution_count": 140,
   "metadata": {},
   "outputs": [],
   "source": [
    "y_pred = gbm.predict(test[features], num_iteration=gbm.best_iteration)"
   ]
  },
  {
   "cell_type": "code",
   "execution_count": 141,
   "metadata": {},
   "outputs": [],
   "source": [
    "test['total_cases'] = np.around(y_pred).astype(np.int64)"
   ]
  },
  {
   "cell_type": "code",
   "execution_count": 142,
   "metadata": {},
   "outputs": [],
   "source": [
    "submission = test[['city', 'year', 'weekofyear', 'total_cases']]\n",
    "submission.to_csv('submission.csv',index=False)"
   ]
  },
  {
   "cell_type": "code",
   "execution_count": null,
   "metadata": {},
   "outputs": [],
   "source": []
  }
 ],
 "metadata": {
  "kernelspec": {
   "display_name": "Python 3",
   "language": "python",
   "name": "python3"
  },
  "language_info": {
   "codemirror_mode": {
    "name": "ipython",
    "version": 3
   },
   "file_extension": ".py",
   "mimetype": "text/x-python",
   "name": "python",
   "nbconvert_exporter": "python",
   "pygments_lexer": "ipython3",
   "version": "3.6.3"
  }
 },
 "nbformat": 4,
 "nbformat_minor": 2
}
