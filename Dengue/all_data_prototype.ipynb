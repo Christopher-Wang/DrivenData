{
 "cells": [
  {
   "cell_type": "code",
   "execution_count": 1,
   "metadata": {},
   "outputs": [],
   "source": [
    "import pandas as pd\n",
    "import numpy as np\n",
    "from pyHSICLasso import HSICLasso\n",
    "from matrixprofile import *\n",
    "import lightgbm as lgb\n",
    "import plotly_express as px\n",
    "from sklearn.metrics import *"
   ]
  },
  {
   "cell_type": "code",
   "execution_count": 2,
   "metadata": {},
   "outputs": [],
   "source": [
    "def generate_features(df, features, windows=range(2, 8), functions=[('mean', np.mean),('std', np.std),('max', np.max),('min', np.min)]):\n",
    "    df = df.interpolate()\n",
    "    for feature in features: \n",
    "        for window in windows:\n",
    "            df[f'matrix_profile.{window}.{feature}'] = np.pad(matrixProfile.stomp(df[feature].values, window)[0], (window-1, 0), 'constant', constant_values=np.nan)\n",
    "            for function in functions:\n",
    "                df[f'{function[0]}.{window}.{feature}'] = df[feature].rolling(window).apply(function[1])\n",
    "    df = df.interpolate().bfill()\n",
    "    df = df.dropna(axis=1)\n",
    "    return df"
   ]
  },
  {
   "cell_type": "code",
   "execution_count": 3,
   "metadata": {},
   "outputs": [],
   "source": [
    "def train_model(sample, label, features):\n",
    "    lgb_train = lgb.Dataset(sample[features].iloc[:len(label)], label['total_cases'])\n",
    "    params = {\n",
    "        'objective': 'regression',\n",
    "        'metric': {'l1'},\n",
    "        'num_leaves': 32,\n",
    "        'learning_rate': 0.05,\n",
    "        'feature_fraction': 0.9,\n",
    "        'bagging_fraction': 0.8,\n",
    "        'bagging_freq': 5,\n",
    "        'verbose': 1\n",
    "    }\n",
    "    gbm = lgb.train(params, lgb_train, num_boost_round=80)\n",
    "    return gbm"
   ]
  },
  {
   "cell_type": "code",
   "execution_count": 4,
   "metadata": {},
   "outputs": [],
   "source": [
    "training_samples = pd.read_csv('https://s3.amazonaws.com:443/drivendata/data/44/public/dengue_features_train.csv')\n",
    "training_labels = pd.read_csv('https://s3.amazonaws.com:443/drivendata/data/44/public/dengue_labels_train.csv')\n",
    "testing_samples = pd.read_csv('https://s3.amazonaws.com:443/drivendata/data/44/public/dengue_features_test.csv')"
   ]
  },
  {
   "cell_type": "code",
   "execution_count": 5,
   "metadata": {},
   "outputs": [
    {
     "name": "stderr",
     "output_type": "stream",
     "text": [
      "c:\\users\\christopher\\appdata\\local\\programs\\python\\python36\\lib\\site-packages\\matrixprofile\\utils.py:177: RuntimeWarning:\n",
      "\n",
      "divide by zero encountered in true_divide\n",
      "\n",
      "c:\\users\\christopher\\appdata\\local\\programs\\python\\python36\\lib\\site-packages\\matrixprofile\\utils.py:200: RuntimeWarning:\n",
      "\n",
      "divide by zero encountered in true_divide\n",
      "\n",
      "c:\\users\\christopher\\appdata\\local\\programs\\python\\python36\\lib\\site-packages\\matrixprofile\\utils.py:200: RuntimeWarning:\n",
      "\n",
      "invalid value encountered in true_divide\n",
      "\n",
      "c:\\users\\christopher\\appdata\\local\\programs\\python\\python36\\lib\\site-packages\\matrixprofile\\matrixProfile.py:172: RuntimeWarning:\n",
      "\n",
      "invalid value encountered in less\n",
      "\n",
      "c:\\users\\christopher\\appdata\\local\\programs\\python\\python36\\lib\\site-packages\\matrixprofile\\matrixProfile.py:178: RuntimeWarning:\n",
      "\n",
      "invalid value encountered in minimum\n",
      "\n",
      "c:\\users\\christopher\\appdata\\local\\programs\\python\\python36\\lib\\site-packages\\matrixprofile\\utils.py:177: RuntimeWarning:\n",
      "\n",
      "invalid value encountered in true_divide\n",
      "\n",
      "c:\\users\\christopher\\appdata\\local\\programs\\python\\python36\\lib\\site-packages\\matrixprofile\\utils.py:68: RuntimeWarning:\n",
      "\n",
      "invalid value encountered in sqrt\n",
      "\n"
     ]
    }
   ],
   "source": [
    "explodable_features =  [column for column in training_samples.columns if column not in ['city', 'year', 'week_start_date', 'weekofyear']]\n",
    "trainable_features =  [column for column in training_samples.columns if column not in ['city', 'year', 'week_start_date']]\n",
    "exploded_samples = generate_features(training_samples, explodable_features)\n",
    "exploded_test = generate_features(testing_samples, explodable_features)"
   ]
  },
  {
   "cell_type": "code",
   "execution_count": 6,
   "metadata": {},
   "outputs": [],
   "source": [
    "def get_lasso_features(sample, label, num_features):\n",
    "    lasso = HSICLasso()\n",
    "    trainable_features =  [column for column in sample.columns if column not in ['city', 'year', 'week_start_date']]\n",
    "    lasso.input(sample[trainable_features].iloc[:len(label)].values, label['total_cases'].values, featname=trainable_features)\n",
    "    lasso.regression(num_features)\n",
    "    return lasso.get_features()"
   ]
  },
  {
   "cell_type": "code",
   "execution_count": 7,
   "metadata": {},
   "outputs": [
    {
     "name": "stdout",
     "output_type": "stream",
     "text": [
      "Block HSIC Lasso B = 20.\n",
      "M set to 3.\n",
      "Using Gaussian kernel for the features, Gaussian kernel for the outcomes.\n"
     ]
    },
    {
     "name": "stderr",
     "output_type": "stream",
     "text": [
      "c:\\users\\christopher\\appdata\\local\\programs\\python\\python36\\lib\\site-packages\\pyHSICLasso\\api.py:107: RuntimeWarning:\n",
      "\n",
      "B 20 must be an exact divisor of the number of samples 1456. Number of blocks 72.8 will be approximated to 72.\n",
      "\n",
      "c:\\users\\christopher\\appdata\\local\\programs\\python\\python36\\lib\\site-packages\\pyHSICLasso\\nlars.py:77: RuntimeWarning:\n",
      "\n",
      "invalid value encountered in true_divide\n",
      "\n",
      "c:\\users\\christopher\\appdata\\local\\programs\\python\\python36\\lib\\site-packages\\pyHSICLasso\\nlars.py:83: RuntimeWarning:\n",
      "\n",
      "invalid value encountered in less_equal\n",
      "\n",
      "c:\\users\\christopher\\appdata\\local\\programs\\python\\python36\\lib\\site-packages\\pyHSICLasso\\nlars.py:85: RuntimeWarning:\n",
      "\n",
      "invalid value encountered in less\n",
      "\n"
     ]
    }
   ],
   "source": [
    "features = get_lasso_features(exploded_samples, training_labels, 100)"
   ]
  },
  {
   "cell_type": "code",
   "execution_count": 23,
   "metadata": {},
   "outputs": [],
   "source": [
    "model = train_model(exploded_samples, training_labels, features)\n",
    "predictions = model.predict(exploded_test[features], num_iteration=model.best_iteration)"
   ]
  },
  {
   "cell_type": "code",
   "execution_count": 24,
   "metadata": {},
   "outputs": [],
   "source": [
    "testing_samples['total_cases'] = np.around(predictions, decimals=0).astype(np.int64)"
   ]
  },
  {
   "cell_type": "code",
   "execution_count": 25,
   "metadata": {},
   "outputs": [],
   "source": [
    "submission = testing_samples[['city', 'year','weekofyear', 'total_cases']]\n",
    "submission.to_csv('submission_mixed_data.csv',index=False)"
   ]
  },
  {
   "cell_type": "code",
   "execution_count": null,
   "metadata": {},
   "outputs": [],
   "source": []
  }
 ],
 "metadata": {
  "kernelspec": {
   "display_name": "Python 3",
   "language": "python",
   "name": "python3"
  },
  "language_info": {
   "codemirror_mode": {
    "name": "ipython",
    "version": 3
   },
   "file_extension": ".py",
   "mimetype": "text/x-python",
   "name": "python",
   "nbconvert_exporter": "python",
   "pygments_lexer": "ipython3",
   "version": "3.6.3"
  }
 },
 "nbformat": 4,
 "nbformat_minor": 2
}
